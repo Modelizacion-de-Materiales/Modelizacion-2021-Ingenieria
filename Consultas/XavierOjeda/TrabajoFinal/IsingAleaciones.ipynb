{
 "cells": [
  {
   "cell_type": "code",
   "execution_count": 1,
   "metadata": {
    "id": "wp_QxXW4L1XT"
   },
   "outputs": [],
   "source": [
    "import numpy as np\n",
    "import random\n",
    "import matplotlib.pyplot as plt\n",
    "import copy"
   ]
  },
  {
   "cell_type": "code",
   "execution_count": 2,
   "metadata": {
    "id": "HKfLfrOD96ua"
   },
   "outputs": [],
   "source": [
    "'''Defino las variables principales del modelo'''\n",
    "\n",
    "n = 10\n",
    "Porcentaje_A = 0.55\n",
    "\n",
    "Vaa = -1\n",
    "Vbb = -1\n",
    "Vab = -2\n",
    "u_a = 0.313\n",
    "u_b = 0.703\n"
   ]
  },
  {
   "cell_type": "code",
   "execution_count": 3,
   "metadata": {},
   "outputs": [],
   "source": [
    "Temp = []\n",
    "Magnet = []\n",
    "Energ = []\n",
    "Energ_CM = []\n",
    "Mallas_evo = []\n",
    "Cambios = 0\n",
    "operaciones = 300*n*n\n",
    "barrido = np.linspace(4,0.1,100)"
   ]
  },
  {
   "cell_type": "code",
   "execution_count": 4,
   "metadata": {
    "colab": {
     "base_uri": "https://localhost:8080/"
    },
    "id": "y_g6jGdnMD2C",
    "outputId": "a6bd891f-3134-4bd1-844a-652885a056cb"
   },
   "outputs": [],
   "source": [
    "'''Genero la matriz que describe al sistema'''\n",
    "\n",
    "Ca = int(np.floor(((n**2)*Porcentaje_A)))\n",
    "Cb = int((n**2 - Ca))\n",
    "VectorA = np.ones((Ca,1)).ravel()\n",
    "VectorB = np.ones((Cb,1)).ravel() * (-1)\n",
    "Total = np.hstack ((VectorA,VectorB))\n",
    "Mix = np.random.shuffle(Total)     #Aleatorizo la malla\n",
    "Malla = Total.reshape(n,n)"
   ]
  },
  {
   "cell_type": "code",
   "execution_count": 5,
   "metadata": {
    "id": "6jRQ4IAfYjUa"
   },
   "outputs": [],
   "source": [
    "'''Calculo la energia del primer estado que genere'''\n",
    "\n",
    "jota_base = (1/4) * (2 *Vab - Vaa - Vbb)\n",
    "H_base = (1/2) * (u_a - u_b) \n",
    "Energia = 0\n",
    "for i in range(n):\n",
    "    for j in range(n):\n",
    "        Energia += -jota_base * (Malla[i,j] *(Malla[i-1,j] + Malla[i,j-1])) - H_base * Malla[i,j] \n",
    "\n",
    "'''Guardo todos los valores que luego usare'''\n",
    "Energia_T = copy.copy(Energia)\n",
    "Energia_cuadrado_T = copy.copy(Energia**2)\n",
    "Energia_previa = copy.copy(Energia)"
   ]
  },
  {
   "cell_type": "code",
   "execution_count": 7,
   "metadata": {},
   "outputs": [],
   "source": [
    "from tqdm.notebook import tqdm_notebook"
   ]
  },
  {
   "cell_type": "code",
   "execution_count": null,
   "metadata": {
    "id": "ndXabIdGn2AQ"
   },
   "outputs": [
    {
     "data": {
      "application/vnd.jupyter.widget-view+json": {
       "model_id": "f19c5c98aebf43a1a009d573e1dd2e20",
       "version_major": 2,
       "version_minor": 0
      },
      "text/plain": [
       "  0%|                                                                                                         …"
      ]
     },
     "metadata": {},
     "output_type": "display_data"
    }
   ],
   "source": [
    "'''Obtengo la evolucion de la energia media en funcion de la temperatura y ordeno la malla'''\n",
    "progress = tqdm_notebook(barrido, ncols=900)\n",
    "for Temperatura in progress: #barrido:\n",
    "    \n",
    "    jota = jota_base \n",
    "    H = H_base * (-Energia_previa / Temperatura)  #Incorporo la evolucion de la temperatura en los potenciales del sistema\n",
    "    \n",
    "    for i in range(operaciones):\n",
    "        \n",
    "        Numero = np.random.rand(1)\n",
    "        \n",
    "        '''Selecciono atomos al azar en la matriz'''\n",
    "        \n",
    "        K = np.round(np.random.rand(1)*(n*n-1))\n",
    "        J = np.floor(K/n).astype(int)\n",
    "        I = (K - J * n).astype(int)\n",
    "        \n",
    "        L = np.round(np.random.rand(1)*(n*n-1))\n",
    "        M = np.floor(L/n).astype(int)\n",
    "        N = (L - M * n).astype(int)\n",
    "\n",
    "        '''Veo si los atomos son los mismos o si son diferentes, en funcion de eso cambiara como encare el calculo de la energia'''\n",
    "        \n",
    "        P_C = Malla[M,N] * Malla[I,J]\n",
    "        \n",
    "        if P_C == 1:\n",
    "            Variacion_de_energia = 0\n",
    "            \n",
    "        else:\n",
    "            if abs((J+I) - (M+N)) == 1: #Veo si los atomos son o no primeros vecinos\n",
    "                 \n",
    "                 Malla_de_cambio = copy.copy(Malla)\n",
    "                 aux1 = copy.copy(Malla_de_cambio[M,N])\n",
    "                 aux2 = copy.copy(Malla_de_cambio[I,J])\n",
    "                 Malla_de_cambio [I,J] = aux1\n",
    "                 Malla_de_cambio [M,N] = aux2             \n",
    "                 Energia_intermedia = 0\n",
    "                \n",
    "                 for i in range(n):\n",
    "                     for j in range(n):\n",
    "                         Energia_intermedia += -jota * (Malla_de_cambio[i,j] *(Malla_de_cambio[i-1,j] + Malla_de_cambio[i,j-1])) - H * Malla_de_cambio[i,j] \n",
    "                        \n",
    "                 Variacion_de_energia = Energia_intermedia - Energia_previa \n",
    "                \n",
    "            \n",
    "            else:\n",
    "                Variacion_de_energia1 = (2 * jota * Malla[I,J] * (Malla[I,J-1] + Malla[I-1,J] \n",
    "                                                                      + Malla[I,J+1-n] + Malla[I+1-n,J])\n",
    "                                                                         - 2 * H * Malla[I,J] )\n",
    "                \n",
    "                Variacion_de_energia2 = (2 * jota * Malla[M,N] * (Malla[M,N-1] + Malla[M-1,N] \n",
    "                                                                      + Malla[M,N+1-n] + Malla[M+1-n,N])\n",
    "                                                                         - 2 * H * Malla[M,N] )   \n",
    "                \n",
    "                Variacion_de_energia = Variacion_de_energia1 + Variacion_de_energia2\n",
    "\n",
    "        ''' En funcion de la variacion de energia hago o no el cambio, uso el algoritmo de Metropolis'''\n",
    "        \n",
    "        if Variacion_de_energia < 0:\n",
    "             aux1 = copy.copy(Malla[M,N])\n",
    "             aux2 = copy.copy(Malla[I,J])\n",
    "             Malla [I,J] = aux1\n",
    "             Malla[M,N] = aux2         \n",
    "             Energia += Variacion_de_energia \n",
    "             Cambios += 1  \n",
    "              \n",
    "        elif Variacion_de_energia > 0:\n",
    "             Parametro = np.exp(-Variacion_de_energia / Temperatura)\n",
    "             if Parametro > Numero:\n",
    "                  aux1 = copy.copy(Malla[M,N])\n",
    "                  aux2 = copy.copy(Malla[I,J])\n",
    "                  Malla [I,J] = aux1\n",
    "                  Malla[M,N] = aux2              \n",
    "                  Energia += Variacion_de_energia\n",
    "                  Cambios += 1  \n",
    "                \n",
    "        elif Variacion_de_energia == 0:\n",
    "            pass\n",
    "                    \n",
    "        Energia_T += Energia  \n",
    "        Energia_cuadrado_T += Energia**2\n",
    "        Energia_previa = copy.copy(Energia)\n",
    "    \n",
    "    '''Obtengo todos los valores que me haran falta mas adelante'''\n",
    "    Energia_parcial = Energia_T/((operaciones+1)*n**2)\n",
    "    Energia_CM = Energia_cuadrado_T/((operaciones+1)*n**4)\n",
    "    \n",
    "    Temp.append(Temperatura) #i)\n",
    "    Energ.append(Energia_parcial)\n",
    "    Energ_CM.append(Energia_CM)\n",
    "    \n",
    "    Energia_T = copy.copy(Energia_parcial)\n",
    "    Energia_cuadrado_T = copy.copy(Energia_CM)\n",
    "    Malla_parcial = copy.copy(Malla)\n",
    "    Mallas_evo.append(Malla_parcial)"
   ]
  },
  {
   "cell_type": "code",
   "execution_count": 7,
   "metadata": {
    "colab": {
     "base_uri": "https://localhost:8080/",
     "height": 265
    },
    "id": "QrzsjlJKokq8",
    "outputId": "cf7a074d-4095-4f22-df81-eb711ef00934"
   },
   "outputs": [
    {
     "data": {
      "image/png": "[encoded data removed]",
      "text/plain": [
       "<Figure size 432x288 with 1 Axes>"
      ]
     },
     "metadata": {
      "needs_background": "light"
     },
     "output_type": "display_data"
    }
   ],
   "source": [
    "plt.plot(Temp,Energ)\n",
    "plt.show()"
   ]
  },
  {
   "cell_type": "code",
   "execution_count": 8,
   "metadata": {
    "colab": {
     "base_uri": "https://localhost:8080/"
    },
    "id": "0vW1Okhr-Neq",
    "outputId": "2de1e108-7e5d-45fb-9e5e-ecf4636756ec"
   },
   "outputs": [
    {
     "data": {
      "image/png": "[encoded data removed]",
      "text/plain": [
       "<Figure size 432x288 with 1 Axes>"
      ]
     },
     "metadata": {
      "needs_background": "light"
     },
     "output_type": "display_data"
    }
   ],
   "source": [
    "plt.imshow(Malla)\n",
    "plt.show()"
   ]
  },
  {
   "cell_type": "code",
   "execution_count": 9,
   "metadata": {
    "id": "Ph24lEv3pIyI"
   },
   "outputs": [
    {
     "name": "stdout",
     "output_type": "stream",
     "text": [
      "1.4000000000000004\n"
     ]
    },
    {
     "data": {
      "image/png": "[encoded data removed]",
      "text/plain": [
       "<Figure size 432x288 with 1 Axes>"
      ]
     },
     "metadata": {
      "needs_background": "light"
     },
     "output_type": "display_data"
    }
   ],
   "source": [
    "'''Calculo el calor especifico, ubico el punto maximo y con eso busco la temperatura de transcision (Aproximacion)'''\n",
    "\n",
    "Calor = []\n",
    "for i in range(len(Temp)):\n",
    "    T = Temp[i]\n",
    "    A = Energ_CM[i]\n",
    "    B = Energ[i]**2\n",
    "    C = (A-B)/T**2\n",
    "    Calor.append(C)\n",
    "\n",
    "MaximoY = max(Calor)\n",
    "MaximoX = Calor.index(MaximoY)\n",
    "Temperaturas = barrido[MaximoX]\n",
    "\n",
    "print(Temperaturas)\n",
    "plt.plot(Temp,Calor)\n",
    "plt.plot(Temperaturas,MaximoY,'o')\n",
    "plt.show()"
   ]
  },
  {
   "cell_type": "code",
   "execution_count": null,
   "metadata": {},
   "outputs": [
    {
     "name": "stdout",
     "output_type": "stream",
     "text": [
      "Using matplotlib backend: TkAgg\n"
     ]
    }
   ],
   "source": [
    "'''Genero la animacion, con la linea comentada puedo guardarla como .gif'''\n",
    "\n",
    "%matplotlib auto\n",
    "\n",
    "import matplotlib.animation as animation\n",
    "from matplotlib import rc\n",
    "rc('animation', html='jshtml')\n",
    "\n",
    "fig1 = plt.figure()\n",
    "\n",
    "def animacion1 (i):\n",
    "    plt.imshow(Mallas_evo[i])\n",
    "\n",
    "grafica = animation.FuncAnimation(fig1,animacion1,range(len(Mallas_evo)))\n",
    "# grafica.save('Grafica047.gif')\n",
    "grafica"
   ]
  },
  {
   "cell_type": "code",
   "execution_count": null,
   "metadata": {},
   "outputs": [],
   "source": []
  }
 ],
 "metadata": {
  "colab": {
   "collapsed_sections": [],
   "name": "IsingAleaciones.ipynb",
   "provenance": []
  },
  "kernelspec": {
   "display_name": "Python 3",
   "language": "python",
   "name": "python3"
  },
  "language_info": {
   "codemirror_mode": {
    "name": "ipython",
    "version": 3
   },
   "file_extension": ".py",
   "mimetype": "text/x-python",
   "name": "python",
   "nbconvert_exporter": "python",
   "pygments_lexer": "ipython3",
   "version": "3.9.2"
  }
 },
 "nbformat": 4,
 "nbformat_minor": 4
}
