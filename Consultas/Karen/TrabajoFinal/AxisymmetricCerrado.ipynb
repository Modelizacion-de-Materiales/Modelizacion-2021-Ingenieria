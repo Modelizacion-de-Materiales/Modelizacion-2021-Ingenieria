{
 "cells": [
  {
   "cell_type": "code",
   "execution_count": 1,
   "id": "continental-realtor",
   "metadata": {},
   "outputs": [],
   "source": [
    "import gmsh\n",
    "import numpy as np\n",
    "import copy\n",
    "    \n",
    "GL = 2     # Grados de libertad\n",
    "E = 30e6   # psi Modulo de elasticidad\n",
    "v = 0.3    # Módulo de Poisson\n",
    "p = 1   # Presión interna [psi]"
   ]
  },
  {
   "cell_type": "code",
   "execution_count": 2,
   "id": "elementary-architect",
   "metadata": {},
   "outputs": [],
   "source": [
    "gmsh.initialize()           # Inicializo\n",
    "gmsh.model.add('Axi')       # Agrego el modelo del ejercicio"
   ]
  },
  {
   "cell_type": "code",
   "execution_count": 3,
   "id": "modular-birth",
   "metadata": {
    "tags": []
   },
   "outputs": [],
   "source": [
    "Dint = 0.5\n",
    "Es = 0.5\n",
    "H = 0.5\n",
    "lc = 2\n",
    "\n",
    "p1 = gmsh.model.geo.addPoint(Dint, 0, 0, lc)\n",
    "p2 = gmsh.model.geo.addPoint(Dint+Es, 0, 0, lc) \n",
    "p3 = gmsh.model.geo.addPoint(Dint+Es, H, 0, lc) \n",
    "p4 = gmsh.model.geo.addPoint(Dint, H, 0, lc) \n",
    "p5 = gmsh.model.geo.addPoint(0, H, 0, lc)\n",
    "p6 = gmsh.model.geo.addPoint(0, 0, 0, lc)\n",
    "p7 = gmsh.model.geo.addPoint(0, -Dint, 0, lc) \n",
    "p8 = gmsh.model.geo.addPoint(0, -Dint-Es, 0, lc) \n",
    "p9 = gmsh.model.geo.addPoint(0, H+Dint, 0, lc) \n",
    "p10 = gmsh.model.geo.addPoint(0, H+Dint+Es, 0, lc) \n",
    "p11 = gmsh.model.geo.addPoint(Dint, H/2, 0, lc) \n",
    "p12 = gmsh.model.geo.addPoint(Dint+Es, H/2, 0, lc) "
   ]
  },
  {
   "cell_type": "code",
   "execution_count": 4,
   "id": "chief-circular",
   "metadata": {},
   "outputs": [],
   "source": [
    "gmsh.model.geo.synchronize()"
   ]
  },
  {
   "cell_type": "code",
   "execution_count": 5,
   "id": "golden-release",
   "metadata": {
    "tags": []
   },
   "outputs": [],
   "source": [
    "l1 = gmsh.model.geo.addLine(p7,p8)\n",
    "semiDo1 = gmsh.model.geo.addCircleArc(p8,p6,p2) # semicirc ext\n",
    "l2 = gmsh.model.geo.addLine(p2, p12) #\n",
    "l6 = gmsh.model.geo.addLine(p12, p3)\n",
    "semiUp1 = gmsh.model.geo.addCircleArc(p3,p5,p10)\n",
    "l3 = gmsh.model.geo.addLine(p10, p9)\n",
    "semiUp2 = gmsh.model.geo.addCircleArc(p9,p5,p4)\n",
    "l4 = gmsh.model.geo.addLine(p4, p11) # del centro para arriba\n",
    "l5 = gmsh.model.geo.addLine(p11, p1) # del centro para abajo\n",
    "semiDo2 = gmsh.model.geo.addCircleArc(p1,p6,p7)\n",
    "\n",
    "# cara interna: 9-4, 4-11, 11-1, 1-7\n",
    "#              [semiUp2,   l4 , l5, semiDo2]\n",
    "lR = gmsh.model.geo.addLine(p11, p12)\n",
    "\n",
    "Lim = gmsh.model.geo.addCurveLoop([l1, semiDo1, l2, l6,  semiUp1, l3, semiUp2, l4, l5,  semiDo2])\n",
    "S = gmsh.model.geo.addPlaneSurface([Lim])\n",
    "\n",
    "gmsh.model.geo.synchronize()"
   ]
  },
  {
   "cell_type": "code",
   "execution_count": 6,
   "id": "balanced-constitution",
   "metadata": {
    "tags": []
   },
   "outputs": [],
   "source": [
    "Pint = gmsh.model.addPhysicalGroup(1, [semiUp2, l4,l5, semiDo2 ])     # Presión interna en Y\n",
    "gmsh.model.setPhysicalName(1,Pint, \"Pint\")"
   ]
  },
  {
   "cell_type": "code",
   "execution_count": 7,
   "id": "moderate-miracle",
   "metadata": {
    "tags": []
   },
   "outputs": [],
   "source": [
    "EmpUp = gmsh.model.addPhysicalGroup(1, [l3])     \n",
    "gmsh.model.setPhysicalName(1,EmpUp, \"EmpUp\")\n",
    "\n",
    "EmpDo = gmsh.model.addPhysicalGroup(1, [l1])  \n",
    "gmsh.model.setPhysicalName(1,EmpDo, \"EmpDo\")\n",
    "\n",
    "Rig1 = gmsh.model.addPhysicalGroup(1, [lR])\n",
    "gmsh.model.setPhysicalName(1,Rig1, \"Rig\")\n",
    "\n",
    "Trash1 = gmsh.model.addPhysicalGroup(0, [p5])\n",
    "gmsh.model.setPhysicalName(0,Trash1, \"trash1\")\n",
    "\n",
    "Trash2 = gmsh.model.addPhysicalGroup(0, [p6])\n",
    "gmsh.model.setPhysicalName(0,Trash2, \"trash2\")"
   ]
  },
  {
   "cell_type": "markdown",
   "id": "secondary-settle",
   "metadata": {},
   "source": [
    "<div style=\"background-color:#009999\"> esto tiene que ir abajo de la generacion del mesh: </div>"
   ]
  },
  {
   "cell_type": "markdown",
   "id": "complicated-venture",
   "metadata": {},
   "source": [
    "``` python\n",
    "Ntsh1 = gmsh.model.mesh.get_nodes_for_physical_group(1,Trash1)   # Puntos basura\n",
    "Ntsh2 = gmsh.model.mesh.get_nodes_for_physical_group(1,Trash2)   # Puntos basura\n",
    "NEmpUp = gmsh.model.mesh.get_nodes_for_physical_group(1,EmpUp) \n",
    "NEmpDo = gmsh.model.mesh.get_nodes_for_physical_group(1,EmpDo) \n",
    "\n",
    "Npint = gmsh.model.mesh.get_nodes_for_physical_group(1,Pint)   # Nodos de linea presionada\n",
    "\n",
    "Npint\n",
    "```"
   ]
  },
  {
   "cell_type": "code",
   "execution_count": 15,
   "id": "unlikely-violation",
   "metadata": {},
   "outputs": [],
   "source": [
    "Sup = gmsh.model.addPhysicalGroup(2,[S])\n",
    "gmsh.model.setPhysicalName(2, Sup, 'Sup')\n",
    "\n",
    "gmsh.model.geo.synchronize()\n",
    "gmsh.model.mesh.generate(2)\n",
    "\n",
    "\n",
    "NTri = gmsh.model.mesh.get_nodes_for_physical_group(2,Sup)   # Nodos de los triangulos\n",
    "NRig1 = gmsh.model.mesh.get_nodes_for_physical_group(1, Rig1)  # Nodos de eje transversal a z para imponer rigidez\n",
    "# NRig2 = gmsh.model.mesh.get_nodes_for_physical_group(1, Rig2)  # Nodos de eje transversal a z para imponer rigidez"
   ]
  },
  {
   "cell_type": "code",
   "execution_count": 16,
   "id": "inclusive-creator",
   "metadata": {},
   "outputs": [],
   "source": [
    "Ntsh1 = gmsh.model.mesh.get_nodes_for_physical_group(1,Trash1)   # Puntos basura\n",
    "Ntsh2 = gmsh.model.mesh.get_nodes_for_physical_group(1,Trash2)   # Puntos basura\n",
    "NEmpUp = gmsh.model.mesh.get_nodes_for_physical_group(1,EmpUp) \n",
    "NEmpDo = gmsh.model.mesh.get_nodes_for_physical_group(1,EmpDo) \n",
    "\n",
    "Npint = gmsh.model.mesh.get_nodes_for_physical_group(1,Pint)   # Nodos de linea presionada\n"
   ]
  },
  {
   "cell_type": "code",
   "execution_count": 17,
   "id": "derived-following",
   "metadata": {},
   "outputs": [
    {
     "data": {
      "text/plain": [
       "(array([ 1,  4,  7,  9, 11, 15, 16], dtype=uint64),\n",
       " array([ 0.5       ,  0.        ,  0.        ,  0.5       ,  0.5       ,\n",
       "         0.        ,  0.        , -0.5       ,  0.        ,  0.        ,\n",
       "         1.        ,  0.        ,  0.5       ,  0.25      ,  0.        ,\n",
       "         0.35355339,  0.85355339,  0.        ,  0.35355339, -0.35355339,\n",
       "         0.        ]))"
      ]
     },
     "execution_count": 17,
     "metadata": {},
     "output_type": "execute_result"
    }
   ],
   "source": [
    "Npint"
   ]
  },
  {
   "cell_type": "code",
   "execution_count": 18,
   "id": "passing-february",
   "metadata": {},
   "outputs": [],
   "source": [
    "# Nodos\n",
    "\n",
    "nodos = gmsh.model.mesh.get_nodes()      # Información de los nodos del mallado\n",
    "N = nodos[0].shape[0]                    # Número de nodos\n",
    "MN = nodos[1].reshape(N , 3)             # Matriz de nodos\n",
    "\n",
    "# Elementos\n",
    "\n",
    "e_tags, e = gmsh.model.mesh.get_elements_by_type(2)  # Información de los elementos tipo 2 (triangulares)\n",
    "MC = e.reshape([e_tags.shape[0],3])                  # Matriz de conectividad"
   ]
  },
  {
   "cell_type": "code",
   "execution_count": 19,
   "id": "imperial-employment",
   "metadata": {},
   "outputs": [],
   "source": [
    "\n",
    "import matplotlib.pyplot as plt\n",
    "plt.rc('figure', figsize=(15,8))\n",
    "plt.rc('axes', labelsize=10 )\n",
    "plt.rc('xtick', labelsize=10 )\n",
    "plt.rc('ytick', labelsize=10 )\n",
    "plt.rc('legend', fontsize=8)"
   ]
  },
  {
   "cell_type": "markdown",
   "id": "authorized-memorial",
   "metadata": {},
   "source": [
    "<div style=\"background-color:#009999\">sobre la corrección de la matriz de conectividad: podes directamente hacer esto: </div>"
   ]
  },
  {
   "cell_type": "code",
   "execution_count": 55,
   "id": "varied-payroll",
   "metadata": {},
   "outputs": [
    {
     "data": {
      "image/png": "[encoded data removed]",
      "text/plain": [
       "<Figure size 720x288 with 1 Axes>"
      ]
     },
     "metadata": {
      "needs_background": "light"
     },
     "output_type": "display_data"
    }
   ],
   "source": [
    "plt.triplot(MN[:, 0], MN[:,1], MC-MC.min())\n",
    "for tag in nodos[0]:\n",
    "    plt.annotate(tag, (MN[int(tag-1),0], MN[int(tag-1),1]), fontsize=20)"
   ]
  },
  {
   "cell_type": "markdown",
   "id": "flying-offset",
   "metadata": {},
   "source": [
    "``` python\n",
    "# Corrijo la MC para que se pueda graficar la red triangular.\n",
    "# El problema está en que tiene los index de los nodos, teniendo en cuenta los puntos p5 y p6 que son auxiliares, y la matriz de nodos NTri, no.\n",
    "MCc = MC.copy()\n",
    "for j, i in enumerate(MCc):\n",
    "    for h, k in enumerate(i):\n",
    "        if k>=6:\n",
    "            MCc[j][h]-=2\n",
    "MC=MCc.copy()\n",
    "# # Traccionados\n",
    "```"
   ]
  },
  {
   "cell_type": "code",
   "execution_count": 65,
   "id": "electronic-ontario",
   "metadata": {},
   "outputs": [],
   "source": [
    "ent_Pint = gmsh.model.getEntitiesForPhysicalGroup(1, Pint,)      # Entidad de elementos traccionados"
   ]
  },
  {
   "cell_type": "markdown",
   "id": "brave-impact",
   "metadata": {},
   "source": [
    "<div style=\"background-color: #009999\">El problema es que te da una lista de entidades, hay que sacar las lineas para cada una por separado, y getElements te agarra de auno los tags. entonces:</div>"
   ]
  },
  {
   "cell_type": "code",
   "execution_count": 85,
   "id": "consolidated-score",
   "metadata": {},
   "outputs": [],
   "source": [
    "tags = []; types=[]; lines =[]\n",
    "for ent in ent_Pint:\n",
    "    aux1, aux2, aux3 = gmsh.model.mesh.getElements(1, ent)\n",
    "    types += aux1\n",
    "    tags += aux2\n",
    "    lines += aux3\n",
    "\n",
    "tags = np.hstack(tags)\n",
    "\n",
    "Lpint = np.hstack(lines).reshape(tags.shape[0],2)"
   ]
  },
  {
   "cell_type": "markdown",
   "id": "received-insertion",
   "metadata": {},
   "source": [
    "``` python\n",
    "t1, t2, PintN = gmsh.model.mesh.getElements(1, ent_Pint[0]) \n",
    "\n",
    "PintN\n",
    "\n",
    "N_seg = PintN[0].reshape(t2[0].shape[0],2)  # Nodos de cada segmento de la entidad\n",
    "```"
   ]
  },
  {
   "cell_type": "markdown",
   "id": "lyric-transportation",
   "metadata": {},
   "source": [
    "<div style=\"background-color:#009999\">aca corregí que para apuntar la fuerza necesitas sacar la normal del segmento de linea\n",
    "</div>"
   ]
  },
  {
   "cell_type": "code",
   "execution_count": 94,
   "id": "excited-entity",
   "metadata": {},
   "outputs": [],
   "source": [
    "F = np.zeros((2*N, 1))\n",
    "\n",
    "Npr = Npint[0]-1\n",
    "\n",
    "# NprUp=NpintUp[0]-1\n",
    "# NprDo=NpintDo[0]-1\n",
    "# NprCent=NpintCent[0]-1\n",
    "\n",
    "\n",
    "# Tubo abierto:\n",
    "# F[int(Npr[0]*2)]=np.pi*pr*MN[Npr[0]][0]*(MN[Npr[-1]][1]-MN[Npr[0]][1])\n",
    "# print(MN[Npr])\n",
    "\n",
    "# F[int(Npr[1]*2)]=np.pi*pr*MN[Npr[1]][0]*(MN[Npr[1]][1]-MN[Npr[2]][1])\n",
    "\n",
    "\n",
    "# for i in range(2,len(Npr)-1):\n",
    "#     Ldown = (MN[Npr[i-1]][1]-MN[Npr[i]][1])             #  L (del segmento abajo del nodo)\n",
    "#     Lup = (MN[Npr[i]][1]-MN[Npr[i+1]][1])               #  L (del segmento arriba del nodo)\n",
    "#     print(Ldown, Lup)\n",
    "#     F[int(Npr[i]*2)]=np.pi*pr*MN[Npr[i]][0]*(Ldown+Lup)\n",
    "# i=len(Npr)-1\n",
    "# Ldown = (MN[Npr[i]][1]-MN[Npr[0]][1])               #  L (del segmento abajo del nodo)\n",
    "# Lup = (MN[Npr[i-1]][1]-MN[Npr[i]][1])                  #  L (del segmento arriba del nodo)\n",
    "# F[int(Npr[i]*2)]=np.pi*pr*MN[Npr[i]][0]*(Ldown+Lup)\n",
    "\n",
    "# Tubo cerrado:\n",
    "\n",
    "# A cada nodo le sumo la componente de la fuerza en r y z (o sea en nodo*2 y nodo*2+1)\n",
    "for i, n in enumerate(Lpint):#MDF__COMENT N_seg):\n",
    "    n1=MN[int(n[0]-1)]\n",
    "    n2=MN[int(n[1]-1)]\n",
    "    L = np.sqrt((n1[1]-n2[1])**2 + (n1[0]-n2[0])**2)\n",
    "    dR = (n1 + n2)[0]/2\n",
    "    dphi = np.arctan2((n2-n1)[1],(n2-n1)[0]) +np.pi/2\n",
    "    normalx = np.cos(dphi)\n",
    "    normaly = np.sin(dphi)\n",
    "    df = p*np.pi * dR *L /2\n",
    "    F[int(2*(n[0]-1))] += df * normalx\n",
    "    F[int(2*(n[0]-1)+1)] += df * normaly\n",
    "    F[int(2*(n[1]-1))] += df * normalx\n",
    "    F[int(2*(n[1]-1)+1)] += df * normaly\n",
    "#    F[int((n[0]-1)*2)]+=p*np.pi*n1[0]*(n1[0]-n2[0])                      # r   uso que (r2-r1)/L = cos(angulo entre p y pr)\n",
    "#    F[int((n[0]-1)*2+1)]+=-p*np.pi*n1[0]*(n1[1]-n2[1])                      # z   uso que (z2-z1)/L = sen(angulo entre p y pr)ç\n",
    "#    F[int((n[1]-1)*2)]+=p*np.pi*n1[0]*(n1[0]-n2[0])                      # r   uso que (r2-r1)/L = cos(angulo entre p y pr)\n",
    "#    F[int((n[1]-1)*2+1)]+=-p*np.pi*n1[0]*(n1[1]-n2[1])                      # z   uso que (z2-z1)/L = sen(angulo entre p y pr)\n",
    "\n",
    "Fu = F[::2]; Fw = F[1::2]"
   ]
  },
  {
   "cell_type": "code",
   "execution_count": 99,
   "id": "grateful-framework",
   "metadata": {},
   "outputs": [
    {
     "data": {
      "text/plain": [
       "<matplotlib.legend.Legend at 0x7ff60645f820>"
      ]
     },
     "execution_count": 99,
     "metadata": {},
     "output_type": "execute_result"
    },
    {
     "data": {
      "image/png": "[encoded data removed]",
      "text/plain": [
       "<Figure size 720x288 with 1 Axes>"
      ]
     },
     "metadata": {
      "needs_background": "light"
     },
     "output_type": "display_data"
    }
   ],
   "source": [
    "import matplotlib.pyplot as plt\n",
    "plt.rc('figure', figsize=(10,4))\n",
    "plt.rc('axes', labelsize=10 )\n",
    "plt.rc('xtick', labelsize=10 )\n",
    "plt.rc('ytick', labelsize=10 )\n",
    "plt.rc('legend', fontsize=8)\n",
    "plt.xlim([-Dint, Dint+Es+ Es/2])\n",
    "#plt.plot(MN[NTri[0]-1, 0], MN[NTri[0]-1,1], 'o', label='Nodos')\n",
    "plt.triplot(MN[:, 0], MN[:,1], MC-MC.min())\n",
    "plt.plot(MN[:, 0], MN[:,1], 'o', label='Nodos')\n",
    "#plt.triplot(MN[NTri[0]-1,0], MN[NTri[0]-1,1], MC-1)\n",
    "# plt.triplot(NT0, NT1, MCc-1)\n",
    "plt.plot(MN[Npint[0]-1, 0], MN[Npint[0]-1, 1,],\"r>\", markeredgewidth=5, label='Pint' )\n",
    "plt.quiver(MN[:,0], MN[:,1], Fu, Fw, units='x',scale=4, width=0.005, label=\"Fuerzas\")\n",
    "# plt.quiver(MN[Long_trac[::2].reshape(len(Long_trac)+1,1)-1, 0], MN[Long_trac[::2].reshape(len(Long_trac)+1,1)-1, 1],  Fx[Long_trac[::2].reshape(len(Long_trac)+1,1)[:,0]-1], Fy[Long_trac[::2].reshape(len(Long_trac)+1,1)[:,0]-1],scale=800, units=\"x\", width=0.05, label='Tracción')\n",
    "for tag in nodos[0]:\n",
    "    plt.annotate(tag, (MN[int(tag-1),0], MN[int(tag-1),1]), fontsize=20)\n",
    "\n",
    "plt.legend()"
   ]
  },
  {
   "cell_type": "code",
   "execution_count": 100,
   "id": "charming-opera",
   "metadata": {},
   "outputs": [],
   "source": [
    "el = len(MC)      # cantidad de elementos\n",
    "K = np.zeros([N*GL, N*GL])\n",
    "Bs=[]\n",
    "D = (E/((1+v)*(1-2*v))) * np.array([[1-v,v,v,0],[v,1-v,v,0],[v,v,1-v,0],[0,0,0,(1-2*v)/2]])\n",
    "\n",
    "for q in range(el):     # Recorro los triangulos\n",
    "    B = np.zeros([4,6])\n",
    "    c = []              #coordenadas de los nodos del elemento\n",
    "    for i in MC[q]:\n",
    "        aux=MN[int(i-1)].copy()\n",
    "        aux[2]=1\n",
    "        c.append(aux)\n",
    "    b=[0,0,0]; g=[0,0,0]; a=[0,0,0]\n",
    "    A = np.linalg.det(c)/2           # Probar sin un menos\n",
    "    for d in range(3): \n",
    "        a[d] = (c[d-2][0] * c[d-1][1] - c[d-2][1] * c[d-1][0])\n",
    "        b[d] = c[d-2][1]- c[d-1][1]\n",
    "        g[d] = c[d-1][0]- c[d-2][0]\n",
    "    rc=0; zc=0\n",
    "    for i in range(3):\n",
    "        rc+=c[i][0]/3\n",
    "        zc+=c[i][1]/3\n",
    "    for j in range(3):\n",
    "        B[0][j*2]+=b[j]\n",
    "        B[1][2*j+1]+=g[j]\n",
    "        B[3][j*2]+=g[j]\n",
    "        B[3][j*2+1]+=b[j]\n",
    "        B[2][j*2]=a[j]/rc + b[j] + g[j]*zc/rc\n",
    "    B = B/(2*A)\n",
    "    Bs.append(B)\n",
    "    k = 2* np.pi *rc *A*np.dot(np.dot(B.transpose(), D), B)\n",
    "    for i in range(3):\n",
    "        nx=int(MC[q][i]-1)\n",
    "        for j in range(3):\n",
    "            ny=int(MC[q][j]-1)\n",
    "            K[np.ix_([nx*2,nx*2+1], [ny*2,ny*2+1])]+=k[i*2:i*2+2, j*2:j*2+2]\n",
    "# K[np.abs(K)<1e-5]=0             \n",
    "# np.round(K/1e6, 2)"
   ]
  },
  {
   "cell_type": "code",
   "execution_count": 101,
   "id": "african-combining",
   "metadata": {},
   "outputs": [
    {
     "ename": "LinAlgError",
     "evalue": "Singular matrix",
     "output_type": "error",
     "traceback": [
      "\u001b[0;31m---------------------------------------------------------------------------\u001b[0m",
      "\u001b[0;31mLinAlgError\u001b[0m                               Traceback (most recent call last)",
      "\u001b[0;32m<ipython-input-101-e4318e6bff3f>\u001b[0m in \u001b[0;36m<module>\u001b[0;34m\u001b[0m\n\u001b[1;32m      5\u001b[0m \u001b[0mr\u001b[0m \u001b[0;34m=\u001b[0m \u001b[0mnp\u001b[0m\u001b[0;34m.\u001b[0m\u001b[0mdelete\u001b[0m\u001b[0;34m(\u001b[0m \u001b[0mnp\u001b[0m\u001b[0;34m.\u001b[0m\u001b[0marange\u001b[0m\u001b[0;34m(\u001b[0m\u001b[0;36m2\u001b[0m\u001b[0;34m*\u001b[0m\u001b[0mN\u001b[0m\u001b[0;34m)\u001b[0m \u001b[0;34m,\u001b[0m \u001b[0ms\u001b[0m \u001b[0;34m)\u001b[0m\u001b[0;34m\u001b[0m\u001b[0;34m\u001b[0m\u001b[0m\n\u001b[1;32m      6\u001b[0m \u001b[0;34m\u001b[0m\u001b[0m\n\u001b[0;32m----> 7\u001b[0;31m \u001b[0mdd\u001b[0m \u001b[0;34m=\u001b[0m \u001b[0mnp\u001b[0m\u001b[0;34m.\u001b[0m\u001b[0mlinalg\u001b[0m\u001b[0;34m.\u001b[0m\u001b[0msolve\u001b[0m\u001b[0;34m(\u001b[0m\u001b[0mK\u001b[0m\u001b[0;34m[\u001b[0m\u001b[0mnp\u001b[0m\u001b[0;34m.\u001b[0m\u001b[0mix_\u001b[0m\u001b[0;34m(\u001b[0m\u001b[0mr\u001b[0m\u001b[0;34m,\u001b[0m\u001b[0mr\u001b[0m\u001b[0;34m)\u001b[0m\u001b[0;34m]\u001b[0m\u001b[0;34m,\u001b[0m \u001b[0mF\u001b[0m\u001b[0;34m[\u001b[0m\u001b[0mr\u001b[0m\u001b[0;34m]\u001b[0m\u001b[0;34m)\u001b[0m  \u001b[0;31m# Desplazamientos resultantes\u001b[0m\u001b[0;34m\u001b[0m\u001b[0;34m\u001b[0m\u001b[0m\n\u001b[0m\u001b[1;32m      8\u001b[0m \u001b[0;34m\u001b[0m\u001b[0m\n\u001b[1;32m      9\u001b[0m \u001b[0md\u001b[0m \u001b[0;34m=\u001b[0m \u001b[0mnp\u001b[0m\u001b[0;34m.\u001b[0m\u001b[0mzeros\u001b[0m\u001b[0;34m(\u001b[0m\u001b[0;34m(\u001b[0m\u001b[0;36m2\u001b[0m\u001b[0;34m*\u001b[0m\u001b[0mN\u001b[0m\u001b[0;34m,\u001b[0m \u001b[0;36m1\u001b[0m\u001b[0;34m)\u001b[0m\u001b[0;34m)\u001b[0m\u001b[0;34m\u001b[0m\u001b[0;34m\u001b[0m\u001b[0m\n",
      "\u001b[0;32m<__array_function__ internals>\u001b[0m in \u001b[0;36msolve\u001b[0;34m(*args, **kwargs)\u001b[0m\n",
      "\u001b[0;32m/data/Anaconda/JupyterLab/lib/python3.9/site-packages/numpy/linalg/linalg.py\u001b[0m in \u001b[0;36msolve\u001b[0;34m(a, b)\u001b[0m\n\u001b[1;32m    391\u001b[0m     \u001b[0msignature\u001b[0m \u001b[0;34m=\u001b[0m \u001b[0;34m'DD->D'\u001b[0m \u001b[0;32mif\u001b[0m \u001b[0misComplexType\u001b[0m\u001b[0;34m(\u001b[0m\u001b[0mt\u001b[0m\u001b[0;34m)\u001b[0m \u001b[0;32melse\u001b[0m \u001b[0;34m'dd->d'\u001b[0m\u001b[0;34m\u001b[0m\u001b[0;34m\u001b[0m\u001b[0m\n\u001b[1;32m    392\u001b[0m     \u001b[0mextobj\u001b[0m \u001b[0;34m=\u001b[0m \u001b[0mget_linalg_error_extobj\u001b[0m\u001b[0;34m(\u001b[0m\u001b[0m_raise_linalgerror_singular\u001b[0m\u001b[0;34m)\u001b[0m\u001b[0;34m\u001b[0m\u001b[0;34m\u001b[0m\u001b[0m\n\u001b[0;32m--> 393\u001b[0;31m     \u001b[0mr\u001b[0m \u001b[0;34m=\u001b[0m \u001b[0mgufunc\u001b[0m\u001b[0;34m(\u001b[0m\u001b[0ma\u001b[0m\u001b[0;34m,\u001b[0m \u001b[0mb\u001b[0m\u001b[0;34m,\u001b[0m \u001b[0msignature\u001b[0m\u001b[0;34m=\u001b[0m\u001b[0msignature\u001b[0m\u001b[0;34m,\u001b[0m \u001b[0mextobj\u001b[0m\u001b[0;34m=\u001b[0m\u001b[0mextobj\u001b[0m\u001b[0;34m)\u001b[0m\u001b[0;34m\u001b[0m\u001b[0;34m\u001b[0m\u001b[0m\n\u001b[0m\u001b[1;32m    394\u001b[0m \u001b[0;34m\u001b[0m\u001b[0m\n\u001b[1;32m    395\u001b[0m     \u001b[0;32mreturn\u001b[0m \u001b[0mwrap\u001b[0m\u001b[0;34m(\u001b[0m\u001b[0mr\u001b[0m\u001b[0;34m.\u001b[0m\u001b[0mastype\u001b[0m\u001b[0;34m(\u001b[0m\u001b[0mresult_t\u001b[0m\u001b[0;34m,\u001b[0m \u001b[0mcopy\u001b[0m\u001b[0;34m=\u001b[0m\u001b[0;32mFalse\u001b[0m\u001b[0;34m)\u001b[0m\u001b[0;34m)\u001b[0m\u001b[0;34m\u001b[0m\u001b[0;34m\u001b[0m\u001b[0m\n",
      "\u001b[0;32m/data/Anaconda/JupyterLab/lib/python3.9/site-packages/numpy/linalg/linalg.py\u001b[0m in \u001b[0;36m_raise_linalgerror_singular\u001b[0;34m(err, flag)\u001b[0m\n\u001b[1;32m     86\u001b[0m \u001b[0;34m\u001b[0m\u001b[0m\n\u001b[1;32m     87\u001b[0m \u001b[0;32mdef\u001b[0m \u001b[0m_raise_linalgerror_singular\u001b[0m\u001b[0;34m(\u001b[0m\u001b[0merr\u001b[0m\u001b[0;34m,\u001b[0m \u001b[0mflag\u001b[0m\u001b[0;34m)\u001b[0m\u001b[0;34m:\u001b[0m\u001b[0;34m\u001b[0m\u001b[0;34m\u001b[0m\u001b[0m\n\u001b[0;32m---> 88\u001b[0;31m     \u001b[0;32mraise\u001b[0m \u001b[0mLinAlgError\u001b[0m\u001b[0;34m(\u001b[0m\u001b[0;34m\"Singular matrix\"\u001b[0m\u001b[0;34m)\u001b[0m\u001b[0;34m\u001b[0m\u001b[0;34m\u001b[0m\u001b[0m\n\u001b[0m\u001b[1;32m     89\u001b[0m \u001b[0;34m\u001b[0m\u001b[0m\n\u001b[1;32m     90\u001b[0m \u001b[0;32mdef\u001b[0m \u001b[0m_raise_linalgerror_nonposdef\u001b[0m\u001b[0;34m(\u001b[0m\u001b[0merr\u001b[0m\u001b[0;34m,\u001b[0m \u001b[0mflag\u001b[0m\u001b[0;34m)\u001b[0m\u001b[0;34m:\u001b[0m\u001b[0;34m\u001b[0m\u001b[0;34m\u001b[0m\u001b[0m\n",
      "\u001b[0;31mLinAlgError\u001b[0m: Singular matrix"
     ]
    }
   ],
   "source": [
    "# Impido el desplazamiento de una linea horizontal en z y para las linea verticales en r. Ademas de los puntos auxiliares.\n",
    "s = np.hstack([(NRig1[0]-1)*2+1, (Ntsh1[0]-1)*2, \n",
    "               (Ntsh1[0]-1)*2+1, (Ntsh2[0]-1)*2, \n",
    "               (Ntsh2[0]-1)*2+1, (NEmpUp[0]-1)*2, (NEmpDo[0]-1)*2] )   \n",
    "r = np.delete( np.arange(2*N) , s )\n",
    "\n",
    "dd = np.linalg.solve(K[np.ix_(r,r)], F[r])  # Desplazamientos resultantes\n",
    "\n",
    "d = np.zeros((2*N, 1))\n",
    "d[r] = dd\n",
    "\n",
    "Ffinal=K.dot(d)   # Fuerzas resultantes\n",
    "Ffinal[np.array(Ffinal)<1e-5]=0"
   ]
  },
  {
   "cell_type": "code",
   "execution_count": null,
   "id": "equivalent-lawrence",
   "metadata": {},
   "outputs": [],
   "source": [
    "Du = d[::2]; Dw = d[1::2]\n",
    "\n",
    "Fu = Ffinal[::2]; Fw = Ffinal[1::2]\n",
    "# np.round(Du/1e-6, 4), np.round(Dw/1e-6, 4)\n"
   ]
  },
  {
   "cell_type": "code",
   "execution_count": null,
   "id": "fresh-authorization",
   "metadata": {},
   "outputs": [],
   "source": [
    "plt.rc('figure', figsize=(15,5))\n",
    "plt.rc('axes', labelsize=10 )\n",
    "plt.rc('xtick', labelsize=10 )\n",
    "plt.rc('ytick', labelsize=10 )\n",
    "plt.rc('legend', fontsize=10)\n",
    "plt.triplot(MN[NTri[0]-1, 0], MN[NTri[0]-1, 1], MC-MC.min())\n",
    "plt.xlim([0, 5*H/2])\n",
    "plt.quiver(MN[:,0], MN[:,1], Fu, Fw, units='x',scale=4, width=0.005, label=\"Fuerzas\")\n",
    "plt.quiver(MN[:,0], MN[:,1], Du, Dw, Dw, color=\"g\", width=0.003, label=\"Desplazamientos\")  # Cambiar el color a uno uniforme? Scale?\n",
    "plt.legend()"
   ]
  },
  {
   "cell_type": "code",
   "execution_count": null,
   "id": "missing-wilderness",
   "metadata": {},
   "outputs": [],
   "source": [
    "Esf=[]\n",
    "for i in range(len(MC)):\n",
    "    jj=np.array(MC[i]-1)*2 \n",
    "    index=[jj[0],jj[0]+1,jj[1],jj[1]+1,jj[2],jj[2]+1]\n",
    "    Esf.append( np.dot( np.dot(D,Bs[i]), d[np.array(index,  dtype=int)])) \n",
    "Esf=np.array(Esf)\n",
    "Esf=Esf.transpose()\n",
    "Esf=Esf[0]"
   ]
  },
  {
   "cell_type": "code",
   "execution_count": null,
   "id": "perceived-benchmark",
   "metadata": {},
   "outputs": [],
   "source": [
    "fig, ((ax1, ax2), (ax3, ax4)) = plt.subplots(2, 2, figsize=(20,10))\n",
    "# fig, ax = plt.subplots(1,1, figsize=(10,5))\n",
    "cmap = ax1.tripcolor(MN[NTri[0]-1,0],MN[NTri[0]-1,1],MC-MC.min(), facecolors=Esf[0], edgecolor='k',linewidth=0.05)\n",
    "cbar = plt.colorbar(cmap, ax=ax1)\n",
    "cmap = ax2.tripcolor(MN[NTri[0]-1,0],MN[NTri[0]-1,1],MC-MC.min(), facecolors=Esf[1], edgecolor='k',linewidth=0.05)\n",
    "cbar = plt.colorbar(cmap, ax=ax2)\n",
    "cmap = ax3.tripcolor(MN[NTri[0]-1,0],MN[NTri[0]-1,1],MC-MC.min(), facecolors=Esf[2], edgecolor='k',linewidth=0.05)\n",
    "cbar = plt.colorbar(cmap, ax=ax3)\n",
    "cmap = ax4.tripcolor(MN[NTri[0]-1,0],MN[NTri[0]-1,1],MC-MC.min(), facecolors=Esf[3], edgecolor='k',linewidth=0.05)\n",
    "cbar = plt.colorbar(cmap)\n",
    "# plt.savefig(\"lp-0.01.jpg\")"
   ]
  },
  {
   "cell_type": "code",
   "execution_count": null,
   "id": "falling-matthew",
   "metadata": {},
   "outputs": [],
   "source": []
  }
 ],
 "metadata": {
  "kernelspec": {
   "display_name": "Python 3",
   "language": "python",
   "name": "python3"
  },
  "language_info": {
   "codemirror_mode": {
    "name": "ipython",
    "version": 3
   },
   "file_extension": ".py",
   "mimetype": "text/x-python",
   "name": "python",
   "nbconvert_exporter": "python",
   "pygments_lexer": "ipython3",
   "version": "3.9.2"
  }
 },
 "nbformat": 4,
 "nbformat_minor": 5
}
